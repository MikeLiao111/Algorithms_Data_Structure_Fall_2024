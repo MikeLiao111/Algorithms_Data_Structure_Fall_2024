{
 "cells": [
  {
   "cell_type": "markdown",
   "metadata": {},
   "source": [
    "### Easy Problem (Reference from LeetCode) \n",
    "\n",
    "These exercises are taken from LeetCode, one of the leading coding platforms featuring a variety of interesting and challenging algorithmic questions. Many companies in the industry use this platform to interview candidates. To help you start thinking algorithmically, we will take a reverse approach. \n",
    "\n",
    "In this exercise, I have provided you with the solution for the following Problem: \n",
    "\n",
    "**Problem Description**\n",
    "\n",
    "**Given an integer x, return true if x is a palindrome, and false otherwise.**"
   ]
  },
  {
   "cell_type": "markdown",
   "metadata": {},
   "source": [
    "**Instructions**\n",
    "\n",
    "Please go through the code line by line and answer the following questions:\n",
    "\n",
    "1. Write a short description of what this function does.\n",
    "2. What is the output of the result if the input `x` is:\n",
    "    - 121\n",
    "    - 221\n",
    "    - 202\n",
    "3. What is the worst-case time complexity of the below algorithm? (Use Big-O notation)\n",
    "4. What is the worst-case space complexity of the below algorithm? (Use Big-O notation)\n"
   ]
  },
  {
   "cell_type": "markdown",
   "metadata": {},
   "source": [
    "1. This function is used to check if the input number is reversible or not.\n",
    "    First, it checks if the number is negative or not, if it is negative, it will return false because this function only works for numbers that are not negative.\n",
    "    Then it creates a variable called orginal and sets it to x, and a variable called reversed_num and sets it to zero. \n",
    "    Then it reverses x from the lowest order of magnitude and reverse it to the highest order of magnitude. It continues to do the same thing until x is no longer larger than 0\n",
    "    After that, it will return True if original is the same as reversed_num, if it is not, it will return False.\n",
    "\n",
    "2. True\n",
    "    False\n",
    "    True\n",
    "\n",
    "3. worst-case time complexity: O(n)\n",
    "\n",
    "4. worst-case space complexity: O(1)"
   ]
  },
  {
   "cell_type": "code",
   "execution_count": 1,
   "metadata": {},
   "outputs": [],
   "source": [
    "def isPalindrome(x):\n",
    "    \"\"\"\n",
    "    :type x: int\n",
    "    :rtype: bool\n",
    "    \"\"\"\n",
    "    \n",
    "    # Negative numbers are not palindromes\n",
    "    if x < 0:\n",
    "        return False\n",
    "    \n",
    "    # Initialize variables\n",
    "    original = x\n",
    "    reversed_num = 0\n",
    "    \n",
    "    # Reverse the number\n",
    "    while x > 0:\n",
    "        digit = x % 10\n",
    "        reversed_num = reversed_num * 10 + digit\n",
    "        x = x // 10\n",
    "    \n",
    "    # Check if original and reversed numbers are the same\n",
    "    return original == reversed_num\n"
   ]
  },
  {
   "cell_type": "code",
   "execution_count": 5,
   "metadata": {},
   "outputs": [
    {
     "ename": "TypeError",
     "evalue": "isPalindrome() takes 1 positional argument but 2 were given",
     "output_type": "error",
     "traceback": [
      "\u001b[0;31m---------------------------------------------------------------------------\u001b[0m",
      "\u001b[0;31mTypeError\u001b[0m                                 Traceback (most recent call last)",
      "Cell \u001b[0;32mIn[5], line 1\u001b[0m\n\u001b[0;32m----> 1\u001b[0m \u001b[43misPalindrome\u001b[49m\u001b[43m(\u001b[49m\u001b[38;5;241;43m202\u001b[39;49m\u001b[43m,\u001b[49m\u001b[38;5;241;43m101\u001b[39;49m\u001b[43m)\u001b[49m\n",
      "\u001b[0;31mTypeError\u001b[0m: isPalindrome() takes 1 positional argument but 2 were given"
     ]
    }
   ],
   "source": [
    "isPalindrome(202,101)"
   ]
  }
 ],
 "metadata": {
  "kernelspec": {
   "display_name": "Python 3",
   "language": "python",
   "name": "python3"
  },
  "language_info": {
   "codemirror_mode": {
    "name": "ipython",
    "version": 3
   },
   "file_extension": ".py",
   "mimetype": "text/x-python",
   "name": "python",
   "nbconvert_exporter": "python",
   "pygments_lexer": "ipython3",
   "version": "3.12.2"
  }
 },
 "nbformat": 4,
 "nbformat_minor": 2
}
