{
 "cells": [
  {
   "cell_type": "code",
   "execution_count": 25,
   "metadata": {},
   "outputs": [],
   "source": [
    "class Node:\n",
    "    def __init__(self, data):\n",
    "        self.data = data\n",
    "        self.next = None\n",
    "        \n",
    "class LinkedList:\n",
    "    def __init__(self):\n",
    "        self.head = None\n",
    "        self.tail = None\n",
    "        \n",
    "    def insert_at_beginning(self, data):\n",
    "        new_node = Node(data)\n",
    "        if self.head is None:\n",
    "            self.head = new_node\n",
    "            self.tail = new_node\n",
    "        else:\n",
    "            new_node.next = self.head\n",
    "            self.head = new_node\n",
    "            \n",
    "    def insert_at_end(self, data):\n",
    "        new_node = Node(data)\n",
    "        if self.head is None:\n",
    "            self.head = new_node\n",
    "            self.tail = new_node\n",
    "        else:\n",
    "            self.tail.next = new_node\n",
    "            self.tail = new_node\n",
    "        \n",
    "    def delete_at_beginning(self):\n",
    "        if self.head is None:\n",
    "            print(\"List is empty\")\n",
    "        else:\n",
    "            self.head = self.head.next\n",
    "            \n",
    "    def delete_at_end(self):\n",
    "        if self.head is None:\n",
    "            print(\"List is empty\")\n",
    "        else:\n",
    "            temp = self.head\n",
    "            while temp.next != self.tail:\n",
    "                temp = temp.next\n",
    "            temp.next = None\n",
    "            self.tail = temp\n",
    "            \n",
    "    def display(self):\n",
    "        temp = self.head\n",
    "        while temp:\n",
    "            print(temp.data, end=\" \")\n",
    "            temp = temp.next\n",
    "        print()\n",
    "        \n",
    "    def search(self, data):\n",
    "        temp = self.head\n",
    "        while temp:\n",
    "            if temp.data == data:\n",
    "                return True\n",
    "            temp = temp.next\n",
    "        return False\n",
    "    \n",
    "    def reverse(self):\n",
    "        previous=None\n",
    "        current=self.head\n",
    "        while current != None:\n",
    "            next=current.next\n",
    "            current.next=previous\n",
    "            previous=current \n",
    "            current=next\n",
    "        self.head=previous\n",
    "\n",
    "    def find_middle(self):\n",
    "        if self.head is None:\n",
    "            return None\n",
    "        slow = self.head\n",
    "        fast = self.head\n",
    "        while fast is not None and fast.next is not None:\n",
    "            slow = slow.next\n",
    "            fast = fast.next.next\n",
    "        return slow.data\n",
    "    \n",
    "    def remove_duplicates(self):\n",
    "        if self.head is None:\n",
    "            return None\n",
    "        current = self.head\n",
    "        seen_values = set()  \n",
    "        seen_values.add(current.data) \n",
    "        while current.next is not None:\n",
    "            if current.next.data in seen_values:\n",
    "                current.next = current.next.next\n",
    "            else:\n",
    "                seen_values.add(current.next.data)\n",
    "                current = current.next\n",
    "        return self.head\n",
    "        "
   ]
  },
  {
   "cell_type": "code",
   "execution_count": 24,
   "metadata": {},
   "outputs": [
    {
     "name": "stdout",
     "output_type": "stream",
     "text": [
      "40 30 20 10 \n"
     ]
    },
    {
     "data": {
      "text/plain": [
       "20"
      ]
     },
     "execution_count": 24,
     "metadata": {},
     "output_type": "execute_result"
    }
   ],
   "source": [
    "exerice1=LinkedList()\n",
    "exerice1.insert_at_end(40)\n",
    "exerice1.insert_at_end(30)\n",
    "exerice1.insert_at_end(20)\n",
    "exerice1.insert_at_end(10)\n",
    "exerice1.display()\n",
    "exerice1.find_middle()"
   ]
  }
 ],
 "metadata": {
  "kernelspec": {
   "display_name": ".venv",
   "language": "python",
   "name": "python3"
  },
  "language_info": {
   "codemirror_mode": {
    "name": "ipython",
    "version": 3
   },
   "file_extension": ".py",
   "mimetype": "text/x-python",
   "name": "python",
   "nbconvert_exporter": "python",
   "pygments_lexer": "ipython3",
   "version": "3.12.2"
  }
 },
 "nbformat": 4,
 "nbformat_minor": 2
}
