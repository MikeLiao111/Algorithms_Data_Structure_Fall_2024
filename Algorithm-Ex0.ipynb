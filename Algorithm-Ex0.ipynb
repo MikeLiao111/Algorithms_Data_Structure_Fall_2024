{
 "cells": [
  {
   "cell_type": "markdown",
   "metadata": {},
   "source": [
    "These exercises are taken from LeetCode, one of the leading coding platforms featuring a variety of interesting and challenging algorithmic questions. Many companies in the industry use this platform to interview candidates. To help you start thinking algorithmically, we will take a reverse approach. "
   ]
  },
  {
   "cell_type": "markdown",
   "metadata": {},
   "source": [
    "### Easy Problem (Reference from LeetCode) \n",
    "\n",
    "**Problem Description**\n",
    "\n",
    "You are given a 0-indexed array of strings `details`. Each element of `details` provides information about a given passenger compressed into a string of length 15. The system is such that:\n",
    "\n",
    "- The first ten characters consist of the phone number of passengers.\n",
    "- The next character denotes the gender of the person.\n",
    "- The following two characters are used to indicate the age of the person.\n",
    "- The last two characters determine the seat allotted to that person.\n",
    "\n",
    "Return the number of passengers who are strictly more than 60 years old."
   ]
  },
  {
   "cell_type": "markdown",
   "metadata": {},
   "source": [
    "**Instructions**\n",
    "\n",
    "I have provided you with the solution for the above problem. Please go through the code line by line and answer the following questions:\n",
    "\n",
    "1. Write a short description of what this function does.\n",
    "2. What is the output of the result if the input `s` is:\n",
    "    - [\"7868190130M7522\",\"5303914400F9211\",\"9273338290F4010\"]\n",
    "    - [\"1313579440F2036\",\"2921522980M5644\"]\n",
    "3. Explain how you get the answer in Q2.  \n",
    "4. What is the worst-case time complexity of the below algorithm? (Use Big-O notation)\n",
    "5. What is the worst-case space complexity of the below algorithm? (Use Big-O notation)"
   ]
  },
  {
   "cell_type": "markdown",
   "metadata": {},
   "source": [
    "1. The function is used to count the passengers who are more than 60 years old. \n",
    "    In the begining, it initializes the count to 0, and then there is a loop. \n",
    "    Inside the loop, it checks the age of the passengers, if it is over 60, one will be added to the count list.\n",
    "    After the loop, it returns the count which would show the number of passengers who are over 60.\n",
    "\n",
    "2. The output of s is 2.\n",
    "\n",
    "3. First the count is initialized to zero, and then in the loop, the age of each passenger will be extraced and then the age will be compared to 60.\n",
    "    If it is larger than 60, one will be added to the count. \n",
    "    In this input, the first two passengers are 75 years old and 92 years old, both of them are greater than 60, so one will be added to the count one by one. \n",
    "    After the loop, it will return count, which is 2. So the output is 2.\n",
    "\n",
    "4. worst-case time complexity: O(n)\n",
    "\n",
    "5. worst-case space complexity: O(1)"
   ]
  },
  {
   "cell_type": "code",
   "execution_count": 1,
   "metadata": {},
   "outputs": [],
   "source": [
    "def count_senior_passengers(details):\n",
    "    count = 0\n",
    "    for detail in details:\n",
    "        age = int(detail[11:13])  # Extracting the age part\n",
    "        if age > 60:\n",
    "            count += 1\n",
    "    return count"
   ]
  }
 ],
 "metadata": {
  "kernelspec": {
   "display_name": ".venv",
   "language": "python",
   "name": "python3"
  },
  "language_info": {
   "codemirror_mode": {
    "name": "ipython",
    "version": 3
   },
   "file_extension": ".py",
   "mimetype": "text/x-python",
   "name": "python",
   "nbconvert_exporter": "python",
   "pygments_lexer": "ipython3",
   "version": "3.12.2"
  }
 },
 "nbformat": 4,
 "nbformat_minor": 2
}
